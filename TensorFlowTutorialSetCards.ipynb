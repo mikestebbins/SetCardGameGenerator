{
 "cells": [
  {
   "cell_type": "markdown",
   "metadata": {},
   "source": [
    "# TensorFlow Tutorial For Beginners\n",
    "\n",
    "*This notebook was made in preparation for the DataCamp tutorial \"TensorFlow Tutorial for Beginners\"; If you want more explanations on the code or on using TensorFlow, go to the full tutorial [here](https://www.datacamp.com/community/tutorials/tensorflow-tutorial).*\n",
    "\n",
    "The full tutorial covers the following topics:\n",
    "\n",
    "* Introducing Tensors\n",
    "    - Plane Vectors\n",
    "    - Tensors\n",
    "* Installing TensorFlow\n",
    "* [TensorFlow Basics](#basics)\n",
    "* [Loading And Exploring The Data](#exploration)\n",
    "    - Some Statistics\n",
    "    - Visual Exploration\n",
    "* [Feature Extraction](#extraction)\n",
    "    - Rescaling Images\n",
    "    - Image Conversion to Grayscale\n",
    "* [Deep Learning with Tensorflow](#dl)\n",
    "    - Modeling Neural Network\n",
    "    - Running The Neural Network\n",
    "    - Evaluating Your Neural Network\n",
    "* Where To Go Next?"
   ]
  },
  {
   "cell_type": "markdown",
   "metadata": {},
   "source": [
    "![DataCamp courses](http://community.datacamp.com.s3.amazonaws.com/community/production/ckeditor_assets/pictures/293/content_blog_banner.png)"
   ]
  },
  {
   "cell_type": "code",
   "execution_count": 144,
   "metadata": {
    "collapsed": true
   },
   "outputs": [],
   "source": [
    "# %load_ext watermark\n",
    "# %watermark -p tensorflow,skimage,matplotlib,numpy,random"
   ]
  },
  {
   "cell_type": "code",
   "execution_count": 145,
   "metadata": {
    "collapsed": true
   },
   "outputs": [],
   "source": [
    "import tensorflow as tf\n",
    "from skimage import transform\n",
    "from skimage import data\n",
    "import matplotlib.pyplot as plt\n",
    "import os\n",
    "import numpy as np\n",
    "from skimage.color import rgb2gray\n",
    "import random"
   ]
  },
  {
   "cell_type": "markdown",
   "metadata": {},
   "source": [
    "<a id='basics'></a>\n",
    "## TensorFlow Basics"
   ]
  },
  {
   "cell_type": "code",
   "execution_count": 146,
   "metadata": {},
   "outputs": [
    {
     "name": "stdout",
     "output_type": "stream",
     "text": [
      "Tensor(\"Mul_19:0\", shape=(4,), dtype=int32)\n"
     ]
    }
   ],
   "source": [
    "# Import `tensorflow`\n",
    "import tensorflow as tf\n",
    "\n",
    "# Initialize two constants\n",
    "x1 = tf.constant([1,2,3,4])\n",
    "x2 = tf.constant([5,6,7,8])\n",
    "\n",
    "# Multiply\n",
    "result = tf.multiply(x1, x2)\n",
    "\n",
    "# Print the result\n",
    "print(result)"
   ]
  },
  {
   "cell_type": "code",
   "execution_count": 147,
   "metadata": {},
   "outputs": [
    {
     "name": "stdout",
     "output_type": "stream",
     "text": [
      "[ 5 12 21 32]\n"
     ]
    }
   ],
   "source": [
    "# Import `tensorflow` \n",
    "import tensorflow as tf\n",
    "\n",
    "# Initialize two constants\n",
    "x1 = tf.constant([1,2,3,4])\n",
    "x2 = tf.constant([5,6,7,8])\n",
    "\n",
    "# Multiply\n",
    "result = tf.multiply(x1, x2)\n",
    "\n",
    "# Intialize the Session\n",
    "sess = tf.Session()\n",
    "\n",
    "# Print the result\n",
    "print(sess.run(result))\n",
    "\n",
    "# Close the session\n",
    "sess.close()"
   ]
  },
  {
   "cell_type": "code",
   "execution_count": 148,
   "metadata": {},
   "outputs": [
    {
     "name": "stdout",
     "output_type": "stream",
     "text": [
      "[ 5 12 21 32]\n"
     ]
    }
   ],
   "source": [
    "# Import `tensorflow`\n",
    "import tensorflow as tf\n",
    "\n",
    "# Initialize two constants\n",
    "x1 = tf.constant([1,2,3,4])\n",
    "x2 = tf.constant([5,6,7,8])\n",
    "\n",
    "# Multiply\n",
    "result = tf.multiply(x1, x2)\n",
    "\n",
    "# Initialize Session and run `result`\n",
    "with tf.Session() as sess:\n",
    "    output = sess.run(result)\n",
    "    print(output)"
   ]
  },
  {
   "cell_type": "markdown",
   "metadata": {},
   "source": [
    "<a id='exploration'></a>\n",
    "## Loading And Exploring The Data"
   ]
  },
  {
   "cell_type": "code",
   "execution_count": 149,
   "metadata": {},
   "outputs": [
    {
     "name": "stdout",
     "output_type": "stream",
     "text": [
      "7000\n",
      "7000\n"
     ]
    }
   ],
   "source": [
    "def load_data(data_dir):\n",
    "    # Get all subdirectories of data_dir. Each represents a label.\n",
    "    directories = [d for d in os.listdir(data_dir) \n",
    "                   if os.path.isdir(os.path.join(data_dir, d))]\n",
    "    # Loop through the label directories and collect the data in\n",
    "    # two lists, labels and images.\n",
    "    labels = []\n",
    "    images = []\n",
    "    for d in directories:\n",
    "        label_dir = os.path.join(data_dir, d)\n",
    "        file_names = [os.path.join(label_dir, f) \n",
    "                      for f in os.listdir(label_dir) \n",
    "                      if f.endswith(\".PNG\")]\n",
    "        for f in file_names:\n",
    "            images.append(data.imread(f))\n",
    "            labels.append(int(d))\n",
    "    return images, labels\n",
    "\n",
    "ROOT_PATH = \"C:/Users/Mike/Documents/GitHub/SetCardGameGenerator/SetCardGameGenerator/REAL/\"\n",
    "train_data_dir = os.path.join(ROOT_PATH, \"TRAINING\")\n",
    "test_data_dir = os.path.join(ROOT_PATH, \"TESTING\")\n",
    "\n",
    "images, labels = load_data(train_data_dir)\n",
    "print(len(images))\n",
    "print(len(labels))"
   ]
  },
  {
   "cell_type": "code",
   "execution_count": 150,
   "metadata": {},
   "outputs": [
    {
     "name": "stdout",
     "output_type": "stream",
     "text": [
      "4\n",
      "296352000\n",
      "1\n",
      "7000\n",
      "2\n"
     ]
    }
   ],
   "source": [
    "images_array = np.array(images)\n",
    "labels_array = np.array(labels)\n",
    "\n",
    "# Print the `images` dimensions\n",
    "print(images_array.ndim)\n",
    "\n",
    "# Print the number of `images`'s elements\n",
    "print(images_array.size)\n",
    "\n",
    "# Print the first instance of `images`\n",
    "# print(images_array[0])\n",
    "\n",
    "# Print the `labels` dimensions\n",
    "print(labels_array.ndim)\n",
    "\n",
    "# Print the number of `labels`'s elements\n",
    "print(labels_array.size)\n",
    "\n",
    "# Count the number of labels\n",
    "print(len(set(labels_array)))"
   ]
  },
  {
   "cell_type": "code",
   "execution_count": 151,
   "metadata": {},
   "outputs": [
    {
     "data": {
      "image/png": "[encoded data removed]",
      "text/plain": [
       "<matplotlib.figure.Figure at 0x1e681191ac8>"
      ]
     },
     "metadata": {},
     "output_type": "display_data"
    }
   ],
   "source": [
    "# Import the `pyplot` module\n",
    "import matplotlib.pyplot as plt \n",
    "\n",
    "# Make a histogram with 62 bins of the `labels` data\n",
    "plt.hist(labels, 62)\n",
    "\n",
    "# Show the plot\n",
    "plt.show()"
   ]
  },
  {
   "cell_type": "code",
   "execution_count": 152,
   "metadata": {},
   "outputs": [
    {
     "data": {
      "image/png": "[encoded data removed]",
      "text/plain": [
       "<matplotlib.figure.Figure at 0x1e6803d9b38>"
      ]
     },
     "metadata": {},
     "output_type": "display_data"
    }
   ],
   "source": [
    "# Import the `pyplot` module of `matplotlib`\n",
    "import matplotlib.pyplot as plt\n",
    "\n",
    "# Determine the (random) indexes of the images that you want to see \n",
    "set_hands = [1, 2, 3, 5]\n",
    "\n",
    "# Fill out the subplots with the random images that you defined \n",
    "for i in range(len(set_hands)):\n",
    "    plt.subplot(1, 4, i+1)\n",
    "    plt.axis('off')\n",
    "    plt.imshow(images[set_hands[i]])\n",
    "    plt.subplots_adjust(wspace=0.5)\n",
    "\n",
    "plt.show()"
   ]
  },
  {
   "cell_type": "code",
   "execution_count": 153,
   "metadata": {},
   "outputs": [
    {
     "data": {
      "image/png": "[encoded data removed]",
      "text/plain": [
       "<matplotlib.figure.Figure at 0x1e680fc71d0>"
      ]
     },
     "metadata": {},
     "output_type": "display_data"
    },
    {
     "name": "stdout",
     "output_type": "stream",
     "text": [
      "shape: (72, 196, 3), min: 0, max: 255\n"
     ]
    },
    {
     "data": {
      "image/png": "[encoded data removed]",
      "text/plain": [
       "<matplotlib.figure.Figure at 0x1e6803592e8>"
      ]
     },
     "metadata": {},
     "output_type": "display_data"
    },
    {
     "name": "stdout",
     "output_type": "stream",
     "text": [
      "shape: (72, 196, 3), min: 0, max: 255\n"
     ]
    },
    {
     "data": {
      "image/png": "[encoded data removed]",
      "text/plain": [
       "<matplotlib.figure.Figure at 0x1e68109db00>"
      ]
     },
     "metadata": {},
     "output_type": "display_data"
    },
    {
     "name": "stdout",
     "output_type": "stream",
     "text": [
      "shape: (72, 196, 3), min: 0, max: 255\n"
     ]
    },
    {
     "data": {
      "image/png": "[encoded data removed]",
      "text/plain": [
       "<matplotlib.figure.Figure at 0x1e680f90898>"
      ]
     },
     "metadata": {},
     "output_type": "display_data"
    },
    {
     "name": "stdout",
     "output_type": "stream",
     "text": [
      "shape: (72, 196, 3), min: 0, max: 255\n"
     ]
    }
   ],
   "source": [
    "# Import `matplotlib`\n",
    "import matplotlib.pyplot as plt\n",
    "\n",
    "# Determine the (random) indexes of the images\n",
    "set_hands = [10, 22, 23, 24]\n",
    "\n",
    "# Fill out the subplots with the random images and add shape, min and max values\n",
    "for i in range(len(set_hands)):\n",
    "    plt.subplot(1, 4, i+1)\n",
    "    plt.axis('off')\n",
    "    plt.imshow(images[set_hands[i]])\n",
    "    plt.subplots_adjust(wspace=0.5)\n",
    "    plt.show()\n",
    "    print(\"shape: {0}, min: {1}, max: {2}\".format(images[set_hands[i]].shape, \n",
    "                                                  images[set_hands[i]].min(), \n",
    "                                                  images[set_hands[i]].max()))"
   ]
  },
  {
   "cell_type": "code",
   "execution_count": 154,
   "metadata": {},
   "outputs": [
    {
     "data": {
      "image/png": "[encoded data removed]",
      "text/plain": [
       "<matplotlib.figure.Figure at 0x1e6811915f8>"
      ]
     },
     "metadata": {},
     "output_type": "display_data"
    }
   ],
   "source": [
    "# Import the `pyplot` module as `plt`\n",
    "import matplotlib.pyplot as plt \n",
    "\n",
    "# Get the unique labels \n",
    "unique_labels = set(labels)\n",
    "\n",
    "# Initialize the figure\n",
    "plt.figure(figsize=(15, 15))\n",
    "\n",
    "# Set a counter\n",
    "i = 1\n",
    "\n",
    "# For each unique label,\n",
    "for label in unique_labels:\n",
    "    # You pick the first image for each label\n",
    "    image = images[labels.index(label)]\n",
    "    # Define 64 subplots \n",
    "    plt.subplot(8, 8, i)\n",
    "    # Don't include axes\n",
    "    plt.axis('off')\n",
    "    # Add a title to each subplot \n",
    "    plt.title(\"Label {0} ({1})\".format(label, labels.count(label)))\n",
    "    # Add 1 to the counter\n",
    "    i += 1\n",
    "    # And you plot this first image \n",
    "    plt.imshow(image)\n",
    "    \n",
    "# Show the plot\n",
    "plt.show()"
   ]
  },
  {
   "cell_type": "markdown",
   "metadata": {},
   "source": [
    "<a id='extraction'></a>\n",
    "## Feature Extraction\n",
    "### Rescaling Images"
   ]
  },
  {
   "cell_type": "code",
   "execution_count": 155,
   "metadata": {},
   "outputs": [],
   "source": [
    "## Resize images\n",
    "# images32 = [transform.resize(image, (28, 28)) for image in images]\n",
    "# images32 = np.array(images32)"
   ]
  },
  {
   "cell_type": "code",
   "execution_count": 156,
   "metadata": {},
   "outputs": [],
   "source": [
    "## Import `matplotlib`\n",
    "# import matplotlib.pyplot as plt\n",
    "\n",
    "## Determine the (random) indexes of the images\n",
    "# set_hands = [300, 2250, 3650, 4000]\n",
    "\n",
    "## Fill out the subplots with the random images and add shape, min and max values\n",
    "# for i in range(len(set_hands)):\n",
    "#     plt.subplot(1, 4, i+1)\n",
    "#     plt.axis('off')\n",
    "#     plt.imshow(images32[set_hands[i]])\n",
    "#     plt.subplots_adjust(wspace=0.5)\n",
    "#     plt.show()\n",
    "#     print(\"shape: {0}, min: {1}, max: {2}\".format(images32[set_hands[i]].shape, \n",
    "#                                                  images32[set_hands[i]].min(), \n",
    "#                                                  images32[set_hands[i]].max()))"
   ]
  },
  {
   "cell_type": "markdown",
   "metadata": {},
   "source": [
    "### Image Conversion to Grayscale "
   ]
  },
  {
   "cell_type": "code",
   "execution_count": 157,
   "metadata": {
    "collapsed": true
   },
   "outputs": [],
   "source": [
    "# images32 = rgb2gray(np.array(images32))\n",
    "images = rgb2gray(np.array(images))"
   ]
  },
  {
   "cell_type": "code",
   "execution_count": 158,
   "metadata": {},
   "outputs": [
    {
     "data": {
      "image/png": "[encoded data removed]",
      "text/plain": [
       "<matplotlib.figure.Figure at 0x1e6811914e0>"
      ]
     },
     "metadata": {},
     "output_type": "display_data"
    },
    {
     "name": "stdout",
     "output_type": "stream",
     "text": [
      "(7000, 72, 196)\n"
     ]
    }
   ],
   "source": [
    "# for i in range(len(traffic_signs)):\n",
    "#     plt.subplot(1, 4, i+1)\n",
    "#     plt.axis('off')\n",
    "#     plt.imshow(images32[traffic_signs[i]], cmap=\"gray\")\n",
    "#     plt.subplots_adjust(wspace=0.5)\n",
    "    \n",
    "# plt.show()\n",
    "\n",
    "# print(images32.shape)\n",
    "\n",
    "for i in range(len(set_hands)):\n",
    "    plt.subplot(1, 4, i+1)\n",
    "    plt.axis('off')\n",
    "    plt.imshow(images[set_hands[i]], cmap=\"gray\")\n",
    "    plt.subplots_adjust(wspace=0.5)\n",
    "    \n",
    "plt.show()\n",
    "\n",
    "print(images.shape)"
   ]
  },
  {
   "cell_type": "markdown",
   "metadata": {},
   "source": [
    "<a id='dl'></a>\n",
    "## Deep Learning with Tensorflow\n",
    "\n",
    "### Modeling The Neural Network"
   ]
  },
  {
   "cell_type": "code",
   "execution_count": 159,
   "metadata": {},
   "outputs": [
    {
     "name": "stdout",
     "output_type": "stream",
     "text": [
      "images_flat:  Tensor(\"Flatten_7/Reshape:0\", shape=(?, 14112), dtype=float32)\n",
      "logits:  Tensor(\"fully_connected_7/Relu:0\", shape=(?, 62), dtype=float32)\n",
      "loss:  Tensor(\"Mean_14:0\", shape=(), dtype=float32)\n",
      "predicted_labels:  Tensor(\"ArgMax_7:0\", shape=(?,), dtype=int64)\n"
     ]
    }
   ],
   "source": [
    "# x = tf.placeholder(dtype = tf.float32, shape = [None, 28, 28])\n",
    "x = tf.placeholder(dtype = tf.float32, shape = [None, 72, 196])\n",
    "y = tf.placeholder(dtype = tf.int32, shape = [None])\n",
    "images_flat = tf.contrib.layers.flatten(x)\n",
    "logits = tf.contrib.layers.fully_connected(images_flat, 62, tf.nn.relu)\n",
    "loss = tf.reduce_mean(tf.nn.sparse_softmax_cross_entropy_with_logits(labels = y, logits = logits))\n",
    "train_op = tf.train.AdamOptimizer(learning_rate=0.001).minimize(loss)\n",
    "correct_pred = tf.argmax(logits, 1)\n",
    "accuracy = tf.reduce_mean(tf.cast(correct_pred, tf.float32))\n",
    "\n",
    "print(\"images_flat: \", images_flat)\n",
    "print(\"logits: \", logits)\n",
    "print(\"loss: \", loss)\n",
    "print(\"predicted_labels: \", correct_pred)"
   ]
  },
  {
   "cell_type": "markdown",
   "metadata": {},
   "source": [
    "### Running The Neural Network"
   ]
  },
  {
   "cell_type": "code",
   "execution_count": 160,
   "metadata": {},
   "outputs": [
    {
     "name": "stdout",
     "output_type": "stream",
     "text": [
      "EPOCH 0\n",
      "Loss:  Tensor(\"Mean_14:0\", shape=(), dtype=float32)\n",
      "DONE WITH EPOCH\n",
      "EPOCH 1\n",
      "DONE WITH EPOCH\n",
      "EPOCH 2\n",
      "DONE WITH EPOCH\n",
      "EPOCH 3\n",
      "DONE WITH EPOCH\n",
      "EPOCH 4\n",
      "DONE WITH EPOCH\n",
      "EPOCH 5\n",
      "DONE WITH EPOCH\n",
      "EPOCH 6\n",
      "DONE WITH EPOCH\n",
      "EPOCH 7\n",
      "DONE WITH EPOCH\n",
      "EPOCH 8\n",
      "DONE WITH EPOCH\n",
      "EPOCH 9\n",
      "DONE WITH EPOCH\n",
      "EPOCH 10\n",
      "Loss:  Tensor(\"Mean_14:0\", shape=(), dtype=float32)\n",
      "DONE WITH EPOCH\n",
      "EPOCH 11\n",
      "DONE WITH EPOCH\n",
      "EPOCH 12\n",
      "DONE WITH EPOCH\n",
      "EPOCH 13\n",
      "DONE WITH EPOCH\n",
      "EPOCH 14\n",
      "DONE WITH EPOCH\n",
      "EPOCH 15\n",
      "DONE WITH EPOCH\n",
      "EPOCH 16\n",
      "DONE WITH EPOCH\n",
      "EPOCH 17\n",
      "DONE WITH EPOCH\n",
      "EPOCH 18\n",
      "DONE WITH EPOCH\n",
      "EPOCH 19\n",
      "DONE WITH EPOCH\n",
      "EPOCH 20\n",
      "Loss:  Tensor(\"Mean_14:0\", shape=(), dtype=float32)\n",
      "DONE WITH EPOCH\n",
      "EPOCH 21\n",
      "DONE WITH EPOCH\n",
      "EPOCH 22\n",
      "DONE WITH EPOCH\n",
      "EPOCH 23\n",
      "DONE WITH EPOCH\n",
      "EPOCH 24\n",
      "DONE WITH EPOCH\n",
      "EPOCH 25\n",
      "DONE WITH EPOCH\n",
      "EPOCH 26\n",
      "DONE WITH EPOCH\n",
      "EPOCH 27\n",
      "DONE WITH EPOCH\n",
      "EPOCH 28\n",
      "DONE WITH EPOCH\n",
      "EPOCH 29\n",
      "DONE WITH EPOCH\n",
      "EPOCH 30\n",
      "Loss:  Tensor(\"Mean_14:0\", shape=(), dtype=float32)\n",
      "DONE WITH EPOCH\n",
      "EPOCH 31\n",
      "DONE WITH EPOCH\n",
      "EPOCH 32\n",
      "DONE WITH EPOCH\n",
      "EPOCH 33\n",
      "DONE WITH EPOCH\n",
      "EPOCH 34\n",
      "DONE WITH EPOCH\n",
      "EPOCH 35\n",
      "DONE WITH EPOCH\n",
      "EPOCH 36\n",
      "DONE WITH EPOCH\n",
      "EPOCH 37\n",
      "DONE WITH EPOCH\n",
      "EPOCH 38\n",
      "DONE WITH EPOCH\n",
      "EPOCH 39\n",
      "DONE WITH EPOCH\n",
      "EPOCH 40\n",
      "Loss:  Tensor(\"Mean_14:0\", shape=(), dtype=float32)\n",
      "DONE WITH EPOCH\n",
      "EPOCH 41\n",
      "DONE WITH EPOCH\n",
      "EPOCH 42\n",
      "DONE WITH EPOCH\n",
      "EPOCH 43\n",
      "DONE WITH EPOCH\n",
      "EPOCH 44\n",
      "DONE WITH EPOCH\n",
      "EPOCH 45\n",
      "DONE WITH EPOCH\n",
      "EPOCH 46\n",
      "DONE WITH EPOCH\n",
      "EPOCH 47\n",
      "DONE WITH EPOCH\n",
      "EPOCH 48\n",
      "DONE WITH EPOCH\n",
      "EPOCH 49\n",
      "DONE WITH EPOCH\n",
      "EPOCH 50\n",
      "Loss:  Tensor(\"Mean_14:0\", shape=(), dtype=float32)\n",
      "DONE WITH EPOCH\n",
      "EPOCH 51\n",
      "DONE WITH EPOCH\n",
      "EPOCH 52\n",
      "DONE WITH EPOCH\n",
      "EPOCH 53\n",
      "DONE WITH EPOCH\n",
      "EPOCH 54\n",
      "DONE WITH EPOCH\n",
      "EPOCH 55\n",
      "DONE WITH EPOCH\n",
      "EPOCH 56\n",
      "DONE WITH EPOCH\n",
      "EPOCH 57\n",
      "DONE WITH EPOCH\n",
      "EPOCH 58\n",
      "DONE WITH EPOCH\n",
      "EPOCH 59\n",
      "DONE WITH EPOCH\n",
      "EPOCH 60\n",
      "Loss:  Tensor(\"Mean_14:0\", shape=(), dtype=float32)\n",
      "DONE WITH EPOCH\n",
      "EPOCH 61\n",
      "DONE WITH EPOCH\n",
      "EPOCH 62\n",
      "DONE WITH EPOCH\n",
      "EPOCH 63\n",
      "DONE WITH EPOCH\n",
      "EPOCH 64\n",
      "DONE WITH EPOCH\n",
      "EPOCH 65\n",
      "DONE WITH EPOCH\n",
      "EPOCH 66\n",
      "DONE WITH EPOCH\n",
      "EPOCH 67\n",
      "DONE WITH EPOCH\n",
      "EPOCH 68\n",
      "DONE WITH EPOCH\n",
      "EPOCH 69\n",
      "DONE WITH EPOCH\n",
      "EPOCH 70\n",
      "Loss:  Tensor(\"Mean_14:0\", shape=(), dtype=float32)\n",
      "DONE WITH EPOCH\n",
      "EPOCH 71\n",
      "DONE WITH EPOCH\n",
      "EPOCH 72\n",
      "DONE WITH EPOCH\n",
      "EPOCH 73\n",
      "DONE WITH EPOCH\n",
      "EPOCH 74\n",
      "DONE WITH EPOCH\n",
      "EPOCH 75\n",
      "DONE WITH EPOCH\n",
      "EPOCH 76\n",
      "DONE WITH EPOCH\n",
      "EPOCH 77\n",
      "DONE WITH EPOCH\n",
      "EPOCH 78\n",
      "DONE WITH EPOCH\n",
      "EPOCH 79\n",
      "DONE WITH EPOCH\n",
      "EPOCH 80\n",
      "Loss:  Tensor(\"Mean_14:0\", shape=(), dtype=float32)\n",
      "DONE WITH EPOCH\n",
      "EPOCH 81\n",
      "DONE WITH EPOCH\n",
      "EPOCH 82\n",
      "DONE WITH EPOCH\n",
      "EPOCH 83\n",
      "DONE WITH EPOCH\n",
      "EPOCH 84\n",
      "DONE WITH EPOCH\n",
      "EPOCH 85\n",
      "DONE WITH EPOCH\n",
      "EPOCH 86\n",
      "DONE WITH EPOCH\n",
      "EPOCH 87\n",
      "DONE WITH EPOCH\n",
      "EPOCH 88\n",
      "DONE WITH EPOCH\n",
      "EPOCH 89\n",
      "DONE WITH EPOCH\n",
      "EPOCH 90\n",
      "Loss:  Tensor(\"Mean_14:0\", shape=(), dtype=float32)\n",
      "DONE WITH EPOCH\n",
      "EPOCH 91\n",
      "DONE WITH EPOCH\n",
      "EPOCH 92\n",
      "DONE WITH EPOCH\n",
      "EPOCH 93\n",
      "DONE WITH EPOCH\n",
      "EPOCH 94\n",
      "DONE WITH EPOCH\n",
      "EPOCH 95\n",
      "DONE WITH EPOCH\n",
      "EPOCH 96\n",
      "DONE WITH EPOCH\n",
      "EPOCH 97\n",
      "DONE WITH EPOCH\n",
      "EPOCH 98\n",
      "DONE WITH EPOCH\n",
      "EPOCH 99\n",
      "DONE WITH EPOCH\n",
      "EPOCH 100\n",
      "Loss:  Tensor(\"Mean_14:0\", shape=(), dtype=float32)\n",
      "DONE WITH EPOCH\n",
      "EPOCH 101\n",
      "DONE WITH EPOCH\n",
      "EPOCH 102\n",
      "DONE WITH EPOCH\n",
      "EPOCH 103\n",
      "DONE WITH EPOCH\n",
      "EPOCH 104\n",
      "DONE WITH EPOCH\n",
      "EPOCH 105\n",
      "DONE WITH EPOCH\n",
      "EPOCH 106\n",
      "DONE WITH EPOCH\n",
      "EPOCH 107\n",
      "DONE WITH EPOCH\n",
      "EPOCH 108\n",
      "DONE WITH EPOCH\n",
      "EPOCH 109\n",
      "DONE WITH EPOCH\n",
      "EPOCH 110\n",
      "Loss:  Tensor(\"Mean_14:0\", shape=(), dtype=float32)\n",
      "DONE WITH EPOCH\n",
      "EPOCH 111\n",
      "DONE WITH EPOCH\n",
      "EPOCH 112\n",
      "DONE WITH EPOCH\n",
      "EPOCH 113\n",
      "DONE WITH EPOCH\n",
      "EPOCH 114\n",
      "DONE WITH EPOCH\n",
      "EPOCH 115\n",
      "DONE WITH EPOCH\n",
      "EPOCH 116\n",
      "DONE WITH EPOCH\n",
      "EPOCH 117\n",
      "DONE WITH EPOCH\n",
      "EPOCH 118\n",
      "DONE WITH EPOCH\n",
      "EPOCH 119\n",
      "DONE WITH EPOCH\n",
      "EPOCH 120\n",
      "Loss:  Tensor(\"Mean_14:0\", shape=(), dtype=float32)\n",
      "DONE WITH EPOCH\n",
      "EPOCH 121\n",
      "DONE WITH EPOCH\n",
      "EPOCH 122\n",
      "DONE WITH EPOCH\n",
      "EPOCH 123\n",
      "DONE WITH EPOCH\n",
      "EPOCH 124\n",
      "DONE WITH EPOCH\n",
      "EPOCH 125\n",
      "DONE WITH EPOCH\n",
      "EPOCH 126\n",
      "DONE WITH EPOCH\n",
      "EPOCH 127\n",
      "DONE WITH EPOCH\n",
      "EPOCH 128\n",
      "DONE WITH EPOCH\n",
      "EPOCH 129\n",
      "DONE WITH EPOCH\n",
      "EPOCH 130\n",
      "Loss:  Tensor(\"Mean_14:0\", shape=(), dtype=float32)\n",
      "DONE WITH EPOCH\n",
      "EPOCH 131\n",
      "DONE WITH EPOCH\n",
      "EPOCH 132\n",
      "DONE WITH EPOCH\n",
      "EPOCH 133\n",
      "DONE WITH EPOCH\n",
      "EPOCH 134\n",
      "DONE WITH EPOCH\n",
      "EPOCH 135\n",
      "DONE WITH EPOCH\n",
      "EPOCH 136\n",
      "DONE WITH EPOCH\n",
      "EPOCH 137\n",
      "DONE WITH EPOCH\n",
      "EPOCH 138\n",
      "DONE WITH EPOCH\n",
      "EPOCH 139\n",
      "DONE WITH EPOCH\n",
      "EPOCH 140\n",
      "Loss:  Tensor(\"Mean_14:0\", shape=(), dtype=float32)\n",
      "DONE WITH EPOCH\n",
      "EPOCH 141\n",
      "DONE WITH EPOCH\n",
      "EPOCH 142\n",
      "DONE WITH EPOCH\n",
      "EPOCH 143\n",
      "DONE WITH EPOCH\n",
      "EPOCH 144\n",
      "DONE WITH EPOCH\n",
      "EPOCH 145\n",
      "DONE WITH EPOCH\n",
      "EPOCH 146\n",
      "DONE WITH EPOCH\n",
      "EPOCH 147\n",
      "DONE WITH EPOCH\n",
      "EPOCH 148\n",
      "DONE WITH EPOCH\n",
      "EPOCH 149\n",
      "DONE WITH EPOCH\n",
      "EPOCH 150\n",
      "Loss:  Tensor(\"Mean_14:0\", shape=(), dtype=float32)\n",
      "DONE WITH EPOCH\n",
      "EPOCH 151\n",
      "DONE WITH EPOCH\n",
      "EPOCH 152\n",
      "DONE WITH EPOCH\n",
      "EPOCH 153\n",
      "DONE WITH EPOCH\n",
      "EPOCH 154\n",
      "DONE WITH EPOCH\n",
      "EPOCH 155\n",
      "DONE WITH EPOCH\n",
      "EPOCH 156\n",
      "DONE WITH EPOCH\n",
      "EPOCH 157\n",
      "DONE WITH EPOCH\n",
      "EPOCH 158\n",
      "DONE WITH EPOCH\n",
      "EPOCH 159\n",
      "DONE WITH EPOCH\n",
      "EPOCH 160\n",
      "Loss:  Tensor(\"Mean_14:0\", shape=(), dtype=float32)\n",
      "DONE WITH EPOCH\n",
      "EPOCH 161\n",
      "DONE WITH EPOCH\n",
      "EPOCH 162\n",
      "DONE WITH EPOCH\n",
      "EPOCH 163\n",
      "DONE WITH EPOCH\n",
      "EPOCH 164\n",
      "DONE WITH EPOCH\n",
      "EPOCH 165\n",
      "DONE WITH EPOCH\n",
      "EPOCH 166\n",
      "DONE WITH EPOCH\n",
      "EPOCH 167\n",
      "DONE WITH EPOCH\n",
      "EPOCH 168\n",
      "DONE WITH EPOCH\n",
      "EPOCH 169\n",
      "DONE WITH EPOCH\n",
      "EPOCH 170\n",
      "Loss:  Tensor(\"Mean_14:0\", shape=(), dtype=float32)\n",
      "DONE WITH EPOCH\n",
      "EPOCH 171\n",
      "DONE WITH EPOCH\n",
      "EPOCH 172\n",
      "DONE WITH EPOCH\n",
      "EPOCH 173\n",
      "DONE WITH EPOCH\n",
      "EPOCH 174\n",
      "DONE WITH EPOCH\n",
      "EPOCH 175\n",
      "DONE WITH EPOCH\n",
      "EPOCH 176\n",
      "DONE WITH EPOCH\n",
      "EPOCH 177\n",
      "DONE WITH EPOCH\n",
      "EPOCH 178\n",
      "DONE WITH EPOCH\n",
      "EPOCH 179\n",
      "DONE WITH EPOCH\n",
      "EPOCH 180\n",
      "Loss:  Tensor(\"Mean_14:0\", shape=(), dtype=float32)\n",
      "DONE WITH EPOCH\n",
      "EPOCH 181\n",
      "DONE WITH EPOCH\n",
      "EPOCH 182\n",
      "DONE WITH EPOCH\n",
      "EPOCH 183\n",
      "DONE WITH EPOCH\n",
      "EPOCH 184\n",
      "DONE WITH EPOCH\n",
      "EPOCH 185\n",
      "DONE WITH EPOCH\n",
      "EPOCH 186\n",
      "DONE WITH EPOCH\n",
      "EPOCH 187\n",
      "DONE WITH EPOCH\n",
      "EPOCH 188\n",
      "DONE WITH EPOCH\n",
      "EPOCH 189\n",
      "DONE WITH EPOCH\n",
      "EPOCH 190\n",
      "Loss:  Tensor(\"Mean_14:0\", shape=(), dtype=float32)\n",
      "DONE WITH EPOCH\n",
      "EPOCH 191\n",
      "DONE WITH EPOCH\n",
      "EPOCH 192\n",
      "DONE WITH EPOCH\n",
      "EPOCH 193\n",
      "DONE WITH EPOCH\n",
      "EPOCH 194\n",
      "DONE WITH EPOCH\n",
      "EPOCH 195\n",
      "DONE WITH EPOCH\n",
      "EPOCH 196\n",
      "DONE WITH EPOCH\n",
      "EPOCH 197\n",
      "DONE WITH EPOCH\n",
      "EPOCH 198\n",
      "DONE WITH EPOCH\n",
      "EPOCH 199\n",
      "DONE WITH EPOCH\n",
      "EPOCH 200\n",
      "Loss:  Tensor(\"Mean_14:0\", shape=(), dtype=float32)\n",
      "DONE WITH EPOCH\n"
     ]
    }
   ],
   "source": [
    "sess = tf.Session()\n",
    "\n",
    "sess.run(tf.global_variables_initializer())\n",
    "\n",
    "# for i in range(201):\n",
    "#         print('EPOCH', i)\n",
    "#         _, accuracy_val = sess.run([train_op, accuracy], feed_dict={x: images32, y: labels})\n",
    "#         if i % 10 == 0:\n",
    "#             print(\"Loss: \", loss)\n",
    "#         print('DONE WITH EPOCH')\n",
    "\n",
    "for i in range(201):\n",
    "        print('EPOCH', i)\n",
    "        _, accuracy_val = sess.run([train_op, accuracy], feed_dict={x: images, y: labels})\n",
    "        if i % 10 == 0:\n",
    "            print(\"Loss: \", loss)\n",
    "        print('DONE WITH EPOCH')"
   ]
  },
  {
   "cell_type": "code",
   "execution_count": 161,
   "metadata": {
    "collapsed": true
   },
   "outputs": [],
   "source": [
    "# Alternatively, you can also run the following lines of code instead of the code chunk above:\n",
    "#with tf.Session() as sess:\n",
    "#    sess.run(tf.global_variables_initializer())\n",
    "#    for i in range(201):\n",
    "#        print('EPOCH', i)\n",
    "#        _, accuracy_val = sess.run([train_op, accuracy], feed_dict={x: images32, y: labels})\n",
    "#        if i % 10 == 0:\n",
    "#            print(\"Loss: \", loss)\n",
    "#        print('DONE WITH EPOCH')"
   ]
  },
  {
   "cell_type": "markdown",
   "metadata": {},
   "source": [
    "### Evaluating The Neural Network"
   ]
  },
  {
   "cell_type": "code",
   "execution_count": 169,
   "metadata": {},
   "outputs": [
    {
     "name": "stdout",
     "output_type": "stream",
     "text": [
      "[0, 0, 0, 0, 1, 0, 0, 0, 0, 0]\n",
      "[0 0 0 0 0 0 0 0 0 0]\n"
     ]
    }
   ],
   "source": [
    "# Pick 10 random images\n",
    "# sample_indexes = random.sample(range(len(images32)), 10)\n",
    "# sample_images = [images32[i] for i in sample_indexes]\n",
    "sample_indexes = random.sample(range(len(images)), 10)\n",
    "sample_images = [images[i] for i in sample_indexes]\n",
    "sample_labels = [labels[i] for i in sample_indexes]\n",
    "\n",
    "# Run the \"predicted_labels\" op.\n",
    "predicted = sess.run([correct_pred], feed_dict={x: sample_images})[0]\n",
    "                        \n",
    "# Print the real and predicted labels\n",
    "print(sample_labels)\n",
    "print(predicted)"
   ]
  },
  {
   "cell_type": "code",
   "execution_count": 170,
   "metadata": {},
   "outputs": [
    {
     "data": {
      "image/png": "[encoded data removed]",
      "text/plain": [
       "<matplotlib.figure.Figure at 0x1e6d2e92a58>"
      ]
     },
     "metadata": {},
     "output_type": "display_data"
    }
   ],
   "source": [
    "# Display the predictions and the ground truth visually.\n",
    "fig = plt.figure(figsize=(10, 10))\n",
    "for i in range(len(sample_images)):\n",
    "    truth = sample_labels[i]\n",
    "    prediction = predicted[i]\n",
    "    plt.subplot(5, 2,1+i)\n",
    "    plt.axis('off')\n",
    "    color='green' if truth == prediction else 'red'\n",
    "    plt.text(40, 10, \"Truth:        {0}\\nPrediction: {1}\".format(truth, prediction), \n",
    "             fontsize=12, color=color)\n",
    "    plt.imshow(sample_images[i])\n",
    "\n",
    "plt.show()"
   ]
  },
  {
   "cell_type": "code",
   "execution_count": 164,
   "metadata": {},
   "outputs": [
    {
     "name": "stdout",
     "output_type": "stream",
     "text": [
      "Accuracy: 0.766\n"
     ]
    }
   ],
   "source": [
    "# Load the test data\n",
    "test_images, test_labels = load_data(test_data_dir)\n",
    "\n",
    "## Transform the images to 28 by 28 pixels\n",
    "#test_images28 = [transform.resize(image, (28, 28)) for image in test_images]\n",
    "\n",
    "# Convert to grayscale\n",
    "from skimage.color import rgb2gray\n",
    "# test_images28 = rgb2gray(np.array(test_images28))\n",
    "test_images28 = rgb2gray(np.array(test_images))\n",
    "\n",
    "# Run predictions against the full test set.\n",
    "predicted = sess.run([correct_pred], feed_dict={x: test_images28})[0]\n",
    "\n",
    "# Calculate correct matches \n",
    "match_count = sum([int(y == y_) for y, y_ in zip(test_labels, predicted)])\n",
    "\n",
    "# Calculate the accuracy\n",
    "accuracy = match_count / len(test_labels)\n",
    "\n",
    "# Print the accuracy\n",
    "print(\"Accuracy: {:.3f}\".format(accuracy))"
   ]
  },
  {
   "cell_type": "code",
   "execution_count": 143,
   "metadata": {
    "collapsed": true
   },
   "outputs": [],
   "source": [
    "sess.close()"
   ]
  },
  {
   "cell_type": "code",
   "execution_count": null,
   "metadata": {
    "collapsed": true
   },
   "outputs": [],
   "source": []
  },
  {
   "cell_type": "code",
   "execution_count": null,
   "metadata": {
    "collapsed": true
   },
   "outputs": [],
   "source": []
  }
 ],
 "metadata": {
  "kernelspec": {
   "display_name": "Python 3",
   "language": "python",
   "name": "python3"
  },
  "language_info": {
   "codemirror_mode": {
    "name": "ipython",
    "version": 3
   },
   "file_extension": ".py",
   "mimetype": "text/x-python",
   "name": "python",
   "nbconvert_exporter": "python",
   "pygments_lexer": "ipython3",
   "version": "3.5.4"
  }
 },
 "nbformat": 4,
 "nbformat_minor": 2
}
