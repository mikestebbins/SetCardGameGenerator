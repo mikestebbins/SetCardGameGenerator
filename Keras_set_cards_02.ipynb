{
 "cells": [
  {
   "cell_type": "code",
   "execution_count": 374,
   "metadata": {},
   "outputs": [],
   "source": [
    "import os\n",
    "import numpy as np\n",
    "import random\n",
    "import matplotlib.pyplot as plt\n",
    "from skimage import transform\n",
    "from skimage import data\n",
    "from skimage.color import rgb2gray\n",
    "\n",
    "from keras.models import Sequential\n",
    "from keras.layers import Dense, Dropout, Activation, Flatten\n",
    "from keras.layers import Convolution2D, MaxPooling2D\n",
    "from keras.utils import np_utils\n",
    "from sklearn.model_selection import train_test_split\n",
    "np.random.seed(123)  # for reproducibility\n",
    "\n",
    "output_categories = 2"
   ]
  },
  {
   "cell_type": "markdown",
   "metadata": {},
   "source": [
    "<a id='exploration'></a>\n",
    "## Loading And Exploring The Data"
   ]
  },
  {
   "cell_type": "code",
   "execution_count": 375,
   "metadata": {},
   "outputs": [
    {
     "name": "stdout",
     "output_type": "stream",
     "text": [
      "316\n",
      "316\n",
      "106\n",
      "106\n"
     ]
    }
   ],
   "source": [
    "def load_data(data_dir):\n",
    "    # Get all subdirectories of data_dir. Each represents a label.\n",
    "    directories = [d for d in os.listdir(data_dir) \n",
    "                   if os.path.isdir(os.path.join(data_dir, d))]\n",
    "    # Loop through the label directories and collect the data in\n",
    "    # two lists, labels and images.\n",
    "    labels = []\n",
    "    images = []\n",
    "    for d in directories:\n",
    "        label_dir = os.path.join(data_dir, d)\n",
    "        file_names = [os.path.join(label_dir, f) \n",
    "                      for f in os.listdir(label_dir) \n",
    "                      if f.endswith(\".PNG\")]\n",
    "        for f in file_names:\n",
    "            images.append(data.imread(f))\n",
    "            labels.append(int(d))\n",
    "    return images, labels\n",
    "\n",
    "# ROOT_PATH = \"C:/Users/Mike/Documents/GitHub/SetCardGameGenerator/SetCardGameGenerator/REAL/\"\n",
    "ROOT_PATH = \"C:/Users/Stebbins/Documents/GitHub/SetCardGameGenerator/\"\n",
    "\n",
    "# small directory of images for testing algorithms\n",
    "data_dir = os.path.join(ROOT_PATH, \"NN_data_test\")\n",
    "\n",
    "# # real directory of images for training/testing\n",
    "# data_dir = os.path.join(ROOT_PATH, \"NN_data\")\n",
    "\n",
    "X, y = load_data(data_dir)\n",
    "\n",
    "X_train,X_test,y_train,y_test = train_test_split(X, y, random_state=0)\n",
    "\n",
    "print(len(X_train))\n",
    "print(len(y_train))\n",
    "print(len(X_test))\n",
    "print(len(y_test))"
   ]
  },
  {
   "cell_type": "code",
   "execution_count": 376,
   "metadata": {
    "scrolled": true
   },
   "outputs": [
    {
     "name": "stdout",
     "output_type": "stream",
     "text": [
      "4\n",
      "13378176\n",
      "1\n",
      "316\n",
      "2\n"
     ]
    }
   ],
   "source": [
    "X_train_array = np.array(X_train)\n",
    "y_train_array = np.array(y_train)\n",
    "X_test_array = np.array(X_test)\n",
    "y_test_array = np.array(y_test)\n",
    "\n",
    "# Print the `images` dimensions\n",
    "print(X_train_array.ndim)\n",
    "\n",
    "# Print the number of `images`'s elements\n",
    "print(X_train_array.size)\n",
    "\n",
    "# Print the first instance of `images`\n",
    "# print(images_array[0])\n",
    "\n",
    "# Print the `labels` dimensions\n",
    "print(y_train_array.ndim)\n",
    "\n",
    "# Print the number of `labels`'s elements\n",
    "print(y_train_array.size)\n",
    "\n",
    "# Count the number of labels\n",
    "print(len(set(y_train_array)))"
   ]
  },
  {
   "cell_type": "code",
   "execution_count": 377,
   "metadata": {
    "scrolled": true
   },
   "outputs": [
    {
     "data": {
      "image/png": "[encoded data removed]",
      "text/plain": [
       "<matplotlib.figure.Figure at 0x29b48b43cc0>"
      ]
     },
     "metadata": {},
     "output_type": "display_data"
    }
   ],
   "source": [
    "# Make a histogram with 2 bins of the `labels` data\n",
    "plt.hist(y_train, 10)\n",
    "\n",
    "# Show the plot\n",
    "plt.show()"
   ]
  },
  {
   "cell_type": "code",
   "execution_count": 378,
   "metadata": {},
   "outputs": [
    {
     "data": {
      "image/png": "[encoded data removed]",
      "text/plain": [
       "<matplotlib.figure.Figure at 0x29badfcc390>"
      ]
     },
     "metadata": {},
     "output_type": "display_data"
    },
    {
     "name": "stdout",
     "output_type": "stream",
     "text": [
      "shape: (72, 196, 3), min: 0, max: 255\n"
     ]
    },
    {
     "data": {
      "image/png": "[encoded data removed]",
      "text/plain": [
       "<matplotlib.figure.Figure at 0x29badcbe668>"
      ]
     },
     "metadata": {},
     "output_type": "display_data"
    },
    {
     "name": "stdout",
     "output_type": "stream",
     "text": [
      "shape: (72, 196, 3), min: 0, max: 255\n"
     ]
    },
    {
     "data": {
      "image/png": "[encoded data removed]",
      "text/plain": [
       "<matplotlib.figure.Figure at 0x29f25e96be0>"
      ]
     },
     "metadata": {},
     "output_type": "display_data"
    },
    {
     "name": "stdout",
     "output_type": "stream",
     "text": [
      "shape: (72, 196, 3), min: 0, max: 255\n"
     ]
    },
    {
     "data": {
      "image/png": "[encoded data removed]",
      "text/plain": [
       "<matplotlib.figure.Figure at 0x29f2613fb70>"
      ]
     },
     "metadata": {},
     "output_type": "display_data"
    },
    {
     "name": "stdout",
     "output_type": "stream",
     "text": [
      "shape: (72, 196, 3), min: 0, max: 255\n"
     ]
    }
   ],
   "source": [
    "# Determine the (random) indexes of the images\n",
    "sample_images = [1, 2, 3, 5]\n",
    "\n",
    "# Fill out the subplots with the random images and add shape, min and max values\n",
    "for i in range(len(sample_images)):\n",
    "    plt.subplot(1, 4, i+1)\n",
    "    plt.axis('off')\n",
    "    plt.imshow(X_train[sample_images[i]])\n",
    "    plt.subplots_adjust(wspace=0.5)\n",
    "    plt.show()\n",
    "    print(\"shape: {0}, min: {1}, max: {2}\".format(images[sample_images[i]].shape, \n",
    "                                                  images[sample_images[i]].min(), \n",
    "                                                  images[sample_images[i]].max()))"
   ]
  },
  {
   "cell_type": "code",
   "execution_count": 379,
   "metadata": {},
   "outputs": [
    {
     "data": {
      "image/png": "[encoded data removed]",
      "text/plain": [
       "<matplotlib.figure.Figure at 0x29badfcca90>"
      ]
     },
     "metadata": {},
     "output_type": "display_data"
    }
   ],
   "source": [
    "# Get the unique labels \n",
    "unique_labels = set(y_train)\n",
    "\n",
    "# Initialize the figure\n",
    "plt.figure(figsize=(15, 15))\n",
    "\n",
    "# Set a counter\n",
    "i = 1\n",
    "\n",
    "# For each unique label,\n",
    "for label in unique_labels:\n",
    "    # You pick the first image for each label\n",
    "    image = X_train[y_train.index(label)]\n",
    "    # Define subplots \n",
    "    plt.subplot(1, 2, i)\n",
    "    # Don't include axes\n",
    "    plt.axis('off')\n",
    "    # Add a title to each subplot \n",
    "    plt.title(\"Label {0} ({1})\".format(label, y_train.count(label)))\n",
    "    # Add 1 to the counter\n",
    "    i += 1\n",
    "    # And you plot this first image \n",
    "    plt.imshow(image)\n",
    "    \n",
    "# Show the plot\n",
    "plt.show()"
   ]
  },
  {
   "cell_type": "markdown",
   "metadata": {},
   "source": [
    "<a id='extraction'></a>\n",
    "## Feature Extraction\n",
    "### Rescaling Images"
   ]
  },
  {
   "cell_type": "code",
   "execution_count": 380,
   "metadata": {},
   "outputs": [
    {
     "name": "stderr",
     "output_type": "stream",
     "text": [
      "C:\\Users\\Stebbins\\Anaconda3_64\\envs\\py35\\lib\\site-packages\\skimage\\transform\\_warps.py:84: UserWarning: The default mode, 'constant', will be changed to 'reflect' in skimage 0.15.\n",
      "  warn(\"The default mode, 'constant', will be changed to 'reflect' in \"\n"
     ]
    },
    {
     "name": "stdout",
     "output_type": "stream",
     "text": [
      "4\n",
      "(316, 36, 98, 3)\n"
     ]
    }
   ],
   "source": [
    "# Resize images\n",
    "X_train = [transform.resize(image, (36, 98)) for each in X_train]\n",
    "X_train_array = np.array(X_train)\n",
    "print(X_train_array.ndim)\n",
    "print(X_train_array.shape)\n",
    "\n",
    "X_test = [transform.resize(image, (36, 98)) for each in X_test]\n",
    "X_test_array = np.array(X_test)"
   ]
  },
  {
   "cell_type": "code",
   "execution_count": 381,
   "metadata": {},
   "outputs": [
    {
     "data": {
      "image/png": "[encoded data removed]",
      "text/plain": [
       "<matplotlib.figure.Figure at 0x29b48b262b0>"
      ]
     },
     "metadata": {},
     "output_type": "display_data"
    },
    {
     "name": "stdout",
     "output_type": "stream",
     "text": [
      "shape: (36, 98, 3), min: 0.0, max: 1.0\n"
     ]
    },
    {
     "data": {
      "image/png": "[encoded data removed]",
      "text/plain": [
       "<matplotlib.figure.Figure at 0x29f263eaef0>"
      ]
     },
     "metadata": {},
     "output_type": "display_data"
    },
    {
     "name": "stdout",
     "output_type": "stream",
     "text": [
      "shape: (36, 98, 3), min: 0.0, max: 1.0\n"
     ]
    },
    {
     "data": {
      "image/png": "[encoded data removed]",
      "text/plain": [
       "<matplotlib.figure.Figure at 0x29f25e707b8>"
      ]
     },
     "metadata": {},
     "output_type": "display_data"
    },
    {
     "name": "stdout",
     "output_type": "stream",
     "text": [
      "shape: (36, 98, 3), min: 0.0, max: 1.0\n"
     ]
    },
    {
     "data": {
      "image/png": "[encoded data removed]",
      "text/plain": [
       "<matplotlib.figure.Figure at 0x29f25f5a0f0>"
      ]
     },
     "metadata": {},
     "output_type": "display_data"
    },
    {
     "name": "stdout",
     "output_type": "stream",
     "text": [
      "shape: (36, 98, 3), min: 0.0, max: 1.0\n"
     ]
    }
   ],
   "source": [
    "# Determine the (random) indexes of the images\n",
    "sample_images = [1, 2, 3, 5]\n",
    "\n",
    "# Fill out the subplots with the random images and add shape, min and max values\n",
    "for i in range(len(sample_images)):\n",
    "    plt.subplot(1, 4, i+1)\n",
    "    plt.axis('off')\n",
    "    plt.imshow(X_train_array[sample_images[i]])\n",
    "    plt.subplots_adjust(wspace=0.5)\n",
    "    plt.show()\n",
    "    print(\"shape: {0}, min: {1}, max: {2}\".format(X_train_array[sample_images[i]].shape, \n",
    "                                                 X_train_array[sample_images[i]].min(), \n",
    "                                                 X_train_array[sample_images[i]].max()))"
   ]
  },
  {
   "cell_type": "markdown",
   "metadata": {},
   "source": [
    "### Image Conversion to Grayscale "
   ]
  },
  {
   "cell_type": "code",
   "execution_count": 382,
   "metadata": {},
   "outputs": [],
   "source": [
    "X_train_array = rgb2gray(np.array(X_train_array))\n",
    "X_test_array = rgb2gray(np.array(X_test_array))"
   ]
  },
  {
   "cell_type": "code",
   "execution_count": 383,
   "metadata": {},
   "outputs": [
    {
     "name": "stdout",
     "output_type": "stream",
     "text": [
      "(316, 36, 98)\n",
      "3\n",
      "(36, 98)\n",
      "2\n"
     ]
    },
    {
     "data": {
      "image/png": "[encoded data removed]",
      "text/plain": [
       "<matplotlib.figure.Figure at 0x29f26095470>"
      ]
     },
     "metadata": {},
     "output_type": "display_data"
    },
    {
     "name": "stdout",
     "output_type": "stream",
     "text": [
      "shape: (36, 98), min: 0.0, max: 1.0\n"
     ]
    },
    {
     "data": {
      "image/png": "[encoded data removed]",
      "text/plain": [
       "<matplotlib.figure.Figure at 0x29f260497f0>"
      ]
     },
     "metadata": {},
     "output_type": "display_data"
    },
    {
     "name": "stdout",
     "output_type": "stream",
     "text": [
      "shape: (36, 98), min: 0.0, max: 1.0\n"
     ]
    },
    {
     "data": {
      "image/png": "[encoded data removed]",
      "text/plain": [
       "<matplotlib.figure.Figure at 0x29f26163470>"
      ]
     },
     "metadata": {},
     "output_type": "display_data"
    },
    {
     "name": "stdout",
     "output_type": "stream",
     "text": [
      "shape: (36, 98), min: 0.0, max: 1.0\n"
     ]
    },
    {
     "data": {
      "image/png": "[encoded data removed]",
      "text/plain": [
       "<matplotlib.figure.Figure at 0x29f25fe3f98>"
      ]
     },
     "metadata": {},
     "output_type": "display_data"
    },
    {
     "name": "stdout",
     "output_type": "stream",
     "text": [
      "shape: (36, 98), min: 0.0, max: 1.0\n"
     ]
    }
   ],
   "source": [
    "print(X_train_array.shape)\n",
    "print(X_train_array.ndim)\n",
    "print(X_train_array[set_hands[i]].shape)\n",
    "print(X_train_array[set_hands[i]].ndim)\n",
    "\n",
    "# images32 = np.expand_dims(images32,2)\n",
    "\n",
    "# print(images32[set_hands[i]].shape)\n",
    "# print(images32[set_hands[i]].ndim)\n",
    "\n",
    "# for i in range(len(sample_images)):\n",
    "#     plt.subplot(1, 4, i+1)\n",
    "#     plt.axis('off')\n",
    "#     plt.imshow(X_train_array[sample_images[i]], cmap=\"gray\")\n",
    "#     plt.subplots_adjust(wspace=0.5)\n",
    "        \n",
    "# plt.show()\n",
    "\n",
    "# Fill out the subplots with the random images and add shape, min and max values\n",
    "for i in range(len(sample_images)):\n",
    "    plt.subplot(1, 4, i+1)\n",
    "    plt.axis('off')\n",
    "    plt.imshow(X_train_array[sample_images[i]], cmap=\"gray\")\n",
    "    plt.subplots_adjust(wspace=0.5)\n",
    "    plt.show()\n",
    "    print(\"shape: {0}, min: {1}, max: {2}\".format(X_train_array[sample_images[i]].shape, \n",
    "                                                 X_train_array[sample_images[i]].min(), \n",
    "                                                 X_train_array[sample_images[i]].max()))"
   ]
  },
  {
   "cell_type": "markdown",
   "metadata": {},
   "source": [
    "### Modeling The Neural Network"
   ]
  },
  {
   "cell_type": "code",
   "execution_count": 384,
   "metadata": {},
   "outputs": [
    {
     "name": "stdout",
     "output_type": "stream",
     "text": [
      "(316, 36, 98)\n",
      "(316, 1, 36, 98)\n",
      "(316,)\n",
      "[0 0 0 0 1]\n"
     ]
    }
   ],
   "source": [
    "print (X_train_array.shape)\n",
    "# Reshape input data\n",
    "X_train_array = X_train_array.reshape(X_train_array.shape[0], 1, 36, 98)\n",
    "print (X_train_array.shape)\n",
    "X_test_array = X_test_array.reshape(X_test_array.shape[0], 1, 36, 98)\n",
    "\n",
    "print (y_train_array.shape)\n",
    "print (y_train_array[:5])\n",
    "# The y_train and y_test data are not split into 10 distinct class labels, \n",
    "# but rather are represented as a single array with the class values."
   ]
  },
  {
   "cell_type": "code",
   "execution_count": 385,
   "metadata": {},
   "outputs": [
    {
     "name": "stdout",
     "output_type": "stream",
     "text": [
      "(316, 2)\n"
     ]
    }
   ],
   "source": [
    "# Convert 1-dimensional class arrays to 10-dimensional class matrices\n",
    "y_train_array = np_utils.to_categorical(y_train_array, 2)\n",
    "print (y_train_array.shape)\n",
    "y_test_array = np_utils.to_categorical(y_test_array, 2)"
   ]
  },
  {
   "cell_type": "code",
   "execution_count": 386,
   "metadata": {},
   "outputs": [
    {
     "name": "stdout",
     "output_type": "stream",
     "text": [
      "(316, 1, 36, 98)\n",
      "(316, 2)\n"
     ]
    }
   ],
   "source": [
    "# shape triple-check\n",
    "print(X_train_array.shape)\n",
    "print(y_train_array.shape)"
   ]
  },
  {
   "cell_type": "code",
   "execution_count": 387,
   "metadata": {},
   "outputs": [
    {
     "name": "stderr",
     "output_type": "stream",
     "text": [
      "C:\\Users\\Stebbins\\Anaconda3_64\\envs\\py35\\lib\\site-packages\\ipykernel_launcher.py:5: UserWarning: Update your `Conv2D` call to the Keras 2 API: `Conv2D(32, (3, 3), data_format=\"channels_first\", input_shape=(1, 36, 98..., activation=\"relu\")`\n",
      "  \"\"\"\n"
     ]
    }
   ],
   "source": [
    "model = Sequential()\n",
    "\n",
    "# CNN input layer\n",
    "model.add(Convolution2D(32, 3, 3, activation='relu', input_shape=(1,36,98), \n",
    "                        dim_ordering='th'))\n",
    "# The input shape parameter should be the shape of 1 sample. In this case, \n",
    "# it's the same (1, 28, 28) that corresponds to  the (depth, width, height) \n",
    "# of each digit image.\n",
    "\n",
    "# But what do the first 3 parameters represent? They correspond to the number \n",
    "# of convolution filters to use, the number of rows in each convolution kernel,\n",
    "# and the number of columns in each convolution kernel, respectively."
   ]
  },
  {
   "cell_type": "code",
   "execution_count": 388,
   "metadata": {},
   "outputs": [
    {
     "name": "stdout",
     "output_type": "stream",
     "text": [
      "(None, 32, 34, 96)\n"
     ]
    }
   ],
   "source": [
    "print (model.output_shape)"
   ]
  },
  {
   "cell_type": "code",
   "execution_count": 389,
   "metadata": {},
   "outputs": [
    {
     "name": "stderr",
     "output_type": "stream",
     "text": [
      "C:\\Users\\Stebbins\\Anaconda3_64\\envs\\py35\\lib\\site-packages\\ipykernel_launcher.py:1: UserWarning: Update your `Conv2D` call to the Keras 2 API: `Conv2D(32, (3, 3), activation=\"relu\")`\n",
      "  \"\"\"Entry point for launching an IPython kernel.\n"
     ]
    }
   ],
   "source": [
    "model.add(Convolution2D(32, 3, 3, activation='relu'))\n",
    "model.add(MaxPooling2D(pool_size=(2,2)))\n",
    "model.add(Dropout(0.25))"
   ]
  },
  {
   "cell_type": "code",
   "execution_count": 390,
   "metadata": {},
   "outputs": [],
   "source": [
    "# Fully connected dense layers\n",
    "model.add(Flatten())\n",
    "model.add(Dense(128, activation='relu'))\n",
    "model.add(Dropout(0.5))\n",
    "model.add(Dense(output_categories, activation='softmax'))"
   ]
  },
  {
   "cell_type": "code",
   "execution_count": 391,
   "metadata": {},
   "outputs": [],
   "source": [
    "# Compile model\n",
    "model.compile(loss='categorical_crossentropy',\n",
    "              optimizer='adam',\n",
    "              metrics=['accuracy'])"
   ]
  },
  {
   "cell_type": "markdown",
   "metadata": {},
   "source": [
    "### Running The Neural Network"
   ]
  },
  {
   "cell_type": "code",
   "execution_count": 392,
   "metadata": {},
   "outputs": [
    {
     "name": "stdout",
     "output_type": "stream",
     "text": [
      "Epoch 1/3\n",
      "316/316 [==============================] - 2s - loss: 0.7640 - acc: 0.5728     \n",
      "Epoch 2/3\n",
      "316/316 [==============================] - 1s - loss: 0.6086 - acc: 0.7152     \n",
      "Epoch 3/3\n",
      "316/316 [==============================] - 1s - loss: 0.6195 - acc: 0.7152     \n"
     ]
    },
    {
     "data": {
      "text/plain": [
       "<keras.callbacks.History at 0x29b48b43cf8>"
      ]
     },
     "execution_count": 392,
     "metadata": {},
     "output_type": "execute_result"
    }
   ],
   "source": [
    "# Fit Keras model\n",
    "model.fit(X_train_array, y_train_array, \n",
    "          batch_size=32, epochs=3, verbose=1)"
   ]
  },
  {
   "cell_type": "markdown",
   "metadata": {},
   "source": [
    "### Evaluating The Neural Network"
   ]
  },
  {
   "cell_type": "code",
   "execution_count": 402,
   "metadata": {},
   "outputs": [],
   "source": [
    "# Pick 10 random images\n",
    "sample_indexes = random.sample(range(len(X_test_array)), 10)\n",
    "sample_images = [X_test_array[i] for i in sample_indexes]\n",
    "sample_labels = [y_test[i] for i in sample_indexes]\n",
    "\n",
    "# Run the \"predicted_labels\" op.\n",
    "predicted = model.predict(X_test_array,batch_size=32)"
   ]
  },
  {
   "cell_type": "code",
   "execution_count": 403,
   "metadata": {},
   "outputs": [
    {
     "name": "stdout",
     "output_type": "stream",
     "text": [
      "[0, 1, 1, 1, 0, 0, 0, 0, 0, 1]\n",
      "[0, 0, 0, 0, 0, 0, 0, 0, 0, 0]\n"
     ]
    }
   ],
   "source": [
    "## Print the real and predicted labels\n",
    "predicted_label = []\n",
    "for i in range (0, len(sample_indexes)):\n",
    "    predicted_label.append(np.argmax(predicted[sample_indexes[i]]))\n",
    "#     print(\"truth = \", sample_labels[i], \"  prediction = \", np.argmax(predicted[sample_indexes[i]]))\n",
    "print(sample_labels)\n",
    "print(predicted_label)"
   ]
  },
  {
   "cell_type": "code",
   "execution_count": 404,
   "metadata": {},
   "outputs": [
    {
     "data": {
      "image/png": "[encoded data removed]",
      "text/plain": [
       "<matplotlib.figure.Figure at 0x29f1e205240>"
      ]
     },
     "metadata": {},
     "output_type": "display_data"
    }
   ],
   "source": [
    "# Display the predictions and the truth visually.\n",
    "fig = plt.figure(figsize=(10, 10))\n",
    "for i in range(len(sample_images)):\n",
    "    truth = sample_labels[i]\n",
    "    prediction = predicted_label[i]\n",
    "    image = X_test_array[sample_indexes[i]]\n",
    "    image = np.squeeze(image)\n",
    "    plt.subplot(5, 2,1+i)\n",
    "    plt.axis('off')\n",
    "    color='green' if truth == prediction else 'red'\n",
    "    plt.text(40, 10, \"Truth:        {0}\\nPrediction: {1}\".format(truth, prediction), \n",
    "             fontsize=12, color=color)\n",
    "    plt.imshow(image)\n",
    "plt.show()"
   ]
  },
  {
   "cell_type": "code",
   "execution_count": 416,
   "metadata": {},
   "outputs": [
    {
     "name": "stdout",
     "output_type": "stream",
     "text": [
      "1\n",
      "0\n",
      "---------------\n",
      "2\n",
      "[ 1.  0.]\n",
      "---------------\n",
      "2\n",
      "[ 0.67401427  0.3259857 ]\n",
      "---------------\n",
      "1\n",
      "0\n",
      "---------------\n",
      "Accuracy: 0.066\n"
     ]
    }
   ],
   "source": [
    "# # Load the test data\n",
    "# test_images, test_labels = load_data(test_data_dir)\n",
    "\n",
    "# ## Transform the images to 28 by 28 pixels\n",
    "# test_images28 = [transform.resize(image, (36, 98)) for image in test_images]\n",
    "\n",
    "# print(test_images.size)\n",
    "\n",
    "# # Convert to grayscale\n",
    "# from skimage.color import rgb2gray\n",
    "# # test_images28 = rgb2gray(np.array(test_images28))\n",
    "# test_images28 = rgb2gray(np.array(test_images))\n",
    "\n",
    "# print(test_images.size)\n",
    "\n",
    "# # Run predictions against the full test set.\n",
    "# predicted = sess.run([correct_pred], feed_dict={x: test_images28})[0]\n",
    "\n",
    "print(np.ndim(y_test))\n",
    "print(y_test[0])\n",
    "print(\"---------------\")\n",
    "\n",
    "print(np.ndim(y_test_array))\n",
    "print(y_test_array[0])\n",
    "print(\"---------------\")\n",
    "\n",
    "print(np.ndim(predicted))\n",
    "print(predicted[0])\n",
    "print(\"---------------\")\n",
    "\n",
    "print(np.ndim(predicted_label))\n",
    "print(predicted_label[0])\n",
    "print(\"---------------\")\n",
    "\n",
    "predicted = np.array(predicted)\n",
    "\n",
    "# Calculate correct matches \n",
    "match_count = sum([int(y == y_) for y, y_ in zip(y_test, predicted_label)])\n",
    "\n",
    "# Calculate the accuracy\n",
    "accuracy = match_count / len(y_test_array)\n",
    "\n",
    "# Print the accuracy\n",
    "print(\"Accuracy: {:.3f}\".format(accuracy))"
   ]
  },
  {
   "cell_type": "code",
   "execution_count": null,
   "metadata": {},
   "outputs": [],
   "source": []
  }
 ],
 "metadata": {
  "kernelspec": {
   "display_name": "Python 3",
   "language": "python",
   "name": "python3"
  },
  "language_info": {
   "codemirror_mode": {
    "name": "ipython",
    "version": 3
   },
   "file_extension": ".py",
   "mimetype": "text/x-python",
   "name": "python",
   "nbconvert_exporter": "python",
   "pygments_lexer": "ipython3",
   "version": "3.5.4"
  }
 },
 "nbformat": 4,
 "nbformat_minor": 2
}
